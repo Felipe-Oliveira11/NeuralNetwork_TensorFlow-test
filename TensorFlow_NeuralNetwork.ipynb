{
  "nbformat": 4,
  "nbformat_minor": 0,
  "metadata": {
    "colab": {
      "name": "TensorFlow_NeuralNetwork.ipynb",
      "provenance": [],
      "collapsed_sections": [],
      "mount_file_id": "1AQ3Y0EDB0_YEYwb_hMcL4RJ41PMIJAUD",
      "authorship_tag": "ABX9TyNEGxKjRoRR7eJ2lvHGLb3Z",
      "include_colab_link": true
    },
    "kernelspec": {
      "name": "python3",
      "display_name": "Python 3"
    },
    "accelerator": "GPU"
  },
  "cells": [
    {
      "cell_type": "markdown",
      "metadata": {
        "id": "view-in-github",
        "colab_type": "text"
      },
      "source": [
        "<a href=\"https://colab.research.google.com/github/Felipe-Oliveira11/NeuralNetwork_TensorFlow-test/blob/master/TensorFlow_NeuralNetwork.ipynb\" target=\"_parent\"><img src=\"https://colab.research.google.com/assets/colab-badge.svg\" alt=\"Open In Colab\"/></a>"
      ]
    },
    {
      "cell_type": "markdown",
      "metadata": {
        "id": "ANk-lmVgpni6",
        "colab_type": "text"
      },
      "source": [
        "### Arquitetura MultiLayer Perceptron \n",
        "\n",
        "\n",
        "\n",
        "<br>\n",
        "<hr>"
      ]
    },
    {
      "cell_type": "code",
      "metadata": {
        "id": "59Xm6s3hDUBK",
        "colab_type": "code",
        "colab": {
          "base_uri": "https://localhost:8080/",
          "height": 71
        },
        "outputId": "21a48979-ffaf-4b94-e297-adb7fe98c2d7"
      },
      "source": [
        "import numpy as np \n",
        "import pandas as pd \n",
        "import matplotlib.pyplot as plt \n",
        "import seaborn as sns \n",
        "\n",
        "%matplotlib inline \n",
        "import warnings\n",
        "warnings.filterwarnings('ignore')\n",
        "\n",
        "import pickle \n",
        "from hyperopt import hp, tpe, fmin, Trials\n",
        "from sklearn.preprocessing import StandardScaler, RobustScaler\n",
        "from sklearn.preprocessing import MinMaxScaler\n",
        "from sklearn.preprocessing import LabelEncoder\n",
        "from sklearn.model_selection import StratifiedKFold, train_test_split\n",
        "from sklearn.metrics import classification_report, precision_score, average_precision_score, roc_auc_score\n",
        "\n",
        "\n",
        "import tensorflow as tf\n",
        "from tensorflow.keras import Sequential\n",
        "from tensorflow.keras.layers import Dense, InputLayer\n",
        "from tensorflow.keras.optimizers import Adam, SGD, RMSprop\n",
        "from tensorflow.keras.losses import BinaryCrossentropy"
      ],
      "execution_count": 1,
      "outputs": [
        {
          "output_type": "stream",
          "text": [
            "/usr/local/lib/python3.6/dist-packages/statsmodels/tools/_testing.py:19: FutureWarning: pandas.util.testing is deprecated. Use the functions in the public API at pandas.testing instead.\n",
            "  import pandas.util.testing as tm\n"
          ],
          "name": "stderr"
        }
      ]
    },
    {
      "cell_type": "code",
      "metadata": {
        "id": "WJ_OauG5Tp0w",
        "colab_type": "code",
        "colab": {}
      },
      "source": [
        "# criando variável \n",
        "var = tf.Variable('Felipe', dtype='string')"
      ],
      "execution_count": 2,
      "outputs": []
    },
    {
      "cell_type": "code",
      "metadata": {
        "id": "WMVrJbG2Dg23",
        "colab_type": "code",
        "colab": {
          "base_uri": "https://localhost:8080/",
          "height": 241
        },
        "outputId": "1e5a5220-6ad4-43a8-f3e0-deec3d3bbee8"
      },
      "source": [
        "path = '/content/drive/My Drive/Inteligência Artificial - Notebooks /Marketing /campaigns.csv'\n",
        "marketing = pd.read_csv(path)\n",
        "marketing.head()"
      ],
      "execution_count": 3,
      "outputs": [
        {
          "output_type": "execute_result",
          "data": {
            "text/html": [
              "<div>\n",
              "<style scoped>\n",
              "    .dataframe tbody tr th:only-of-type {\n",
              "        vertical-align: middle;\n",
              "    }\n",
              "\n",
              "    .dataframe tbody tr th {\n",
              "        vertical-align: top;\n",
              "    }\n",
              "\n",
              "    .dataframe thead th {\n",
              "        text-align: right;\n",
              "    }\n",
              "</style>\n",
              "<table border=\"1\" class=\"dataframe\">\n",
              "  <thead>\n",
              "    <tr style=\"text-align: right;\">\n",
              "      <th></th>\n",
              "      <th>Unnamed: 0</th>\n",
              "      <th>age</th>\n",
              "      <th>job</th>\n",
              "      <th>marital</th>\n",
              "      <th>education</th>\n",
              "      <th>default</th>\n",
              "      <th>balance</th>\n",
              "      <th>housing</th>\n",
              "      <th>loan</th>\n",
              "      <th>contact</th>\n",
              "      <th>day</th>\n",
              "      <th>month</th>\n",
              "      <th>duration</th>\n",
              "      <th>campaign</th>\n",
              "      <th>pdays</th>\n",
              "      <th>previous</th>\n",
              "      <th>poutcome</th>\n",
              "      <th>y</th>\n",
              "    </tr>\n",
              "  </thead>\n",
              "  <tbody>\n",
              "    <tr>\n",
              "      <th>0</th>\n",
              "      <td>0</td>\n",
              "      <td>58</td>\n",
              "      <td>management</td>\n",
              "      <td>married</td>\n",
              "      <td>tertiary</td>\n",
              "      <td>no</td>\n",
              "      <td>2143</td>\n",
              "      <td>yes</td>\n",
              "      <td>no</td>\n",
              "      <td>unknown</td>\n",
              "      <td>5</td>\n",
              "      <td>may</td>\n",
              "      <td>261</td>\n",
              "      <td>1</td>\n",
              "      <td>-1</td>\n",
              "      <td>0</td>\n",
              "      <td>unknown</td>\n",
              "      <td>no</td>\n",
              "    </tr>\n",
              "    <tr>\n",
              "      <th>1</th>\n",
              "      <td>1</td>\n",
              "      <td>44</td>\n",
              "      <td>technician</td>\n",
              "      <td>single</td>\n",
              "      <td>secondary</td>\n",
              "      <td>no</td>\n",
              "      <td>29</td>\n",
              "      <td>yes</td>\n",
              "      <td>no</td>\n",
              "      <td>unknown</td>\n",
              "      <td>5</td>\n",
              "      <td>may</td>\n",
              "      <td>151</td>\n",
              "      <td>1</td>\n",
              "      <td>-1</td>\n",
              "      <td>0</td>\n",
              "      <td>unknown</td>\n",
              "      <td>no</td>\n",
              "    </tr>\n",
              "    <tr>\n",
              "      <th>2</th>\n",
              "      <td>2</td>\n",
              "      <td>33</td>\n",
              "      <td>entrepreneur</td>\n",
              "      <td>married</td>\n",
              "      <td>secondary</td>\n",
              "      <td>no</td>\n",
              "      <td>2</td>\n",
              "      <td>yes</td>\n",
              "      <td>yes</td>\n",
              "      <td>unknown</td>\n",
              "      <td>5</td>\n",
              "      <td>may</td>\n",
              "      <td>76</td>\n",
              "      <td>1</td>\n",
              "      <td>-1</td>\n",
              "      <td>0</td>\n",
              "      <td>unknown</td>\n",
              "      <td>no</td>\n",
              "    </tr>\n",
              "    <tr>\n",
              "      <th>3</th>\n",
              "      <td>3</td>\n",
              "      <td>47</td>\n",
              "      <td>blue-collar</td>\n",
              "      <td>married</td>\n",
              "      <td>unknown</td>\n",
              "      <td>no</td>\n",
              "      <td>1506</td>\n",
              "      <td>yes</td>\n",
              "      <td>no</td>\n",
              "      <td>unknown</td>\n",
              "      <td>5</td>\n",
              "      <td>may</td>\n",
              "      <td>92</td>\n",
              "      <td>1</td>\n",
              "      <td>-1</td>\n",
              "      <td>0</td>\n",
              "      <td>unknown</td>\n",
              "      <td>no</td>\n",
              "    </tr>\n",
              "    <tr>\n",
              "      <th>4</th>\n",
              "      <td>4</td>\n",
              "      <td>33</td>\n",
              "      <td>unknown</td>\n",
              "      <td>single</td>\n",
              "      <td>unknown</td>\n",
              "      <td>no</td>\n",
              "      <td>1</td>\n",
              "      <td>no</td>\n",
              "      <td>no</td>\n",
              "      <td>unknown</td>\n",
              "      <td>5</td>\n",
              "      <td>may</td>\n",
              "      <td>198</td>\n",
              "      <td>1</td>\n",
              "      <td>-1</td>\n",
              "      <td>0</td>\n",
              "      <td>unknown</td>\n",
              "      <td>no</td>\n",
              "    </tr>\n",
              "  </tbody>\n",
              "</table>\n",
              "</div>"
            ],
            "text/plain": [
              "   Unnamed: 0  age           job  marital  ... pdays previous  poutcome   y\n",
              "0           0   58    management  married  ...    -1        0   unknown  no\n",
              "1           1   44    technician   single  ...    -1        0   unknown  no\n",
              "2           2   33  entrepreneur  married  ...    -1        0   unknown  no\n",
              "3           3   47   blue-collar  married  ...    -1        0   unknown  no\n",
              "4           4   33       unknown   single  ...    -1        0   unknown  no\n",
              "\n",
              "[5 rows x 18 columns]"
            ]
          },
          "metadata": {
            "tags": []
          },
          "execution_count": 3
        }
      ]
    },
    {
      "cell_type": "code",
      "metadata": {
        "id": "zAhCvkYxDwCX",
        "colab_type": "code",
        "colab": {}
      },
      "source": [
        "marketing.drop('Unnamed: 0', axis=1, inplace=True)\n",
        "\n",
        "\n",
        "# label target \n",
        "label = LabelEncoder()\n",
        "marketing['y'] = label.fit_transform(marketing[['y']])\n",
        "\n",
        "\n",
        "# tipo de variáveis \n",
        "cat_cols = marketing.select_dtypes(include=['object']).columns \n",
        "num_cols = marketing.select_dtypes(include=['float64', 'int64']).columns\n",
        "\n",
        "\n",
        "\n",
        "# encoding categóricas \n",
        "dummies = pd.get_dummies(marketing[cat_cols], prefix=cat_cols, drop_first=True)\n",
        "marketing = pd.concat([marketing, dummies], axis=1)\n",
        "marketing.drop(cat_cols, axis=1, inplace=True)\n",
        "marketing.shape\n",
        "\n",
        "\n",
        "# split \n",
        "X = marketing.drop('y', axis=1)\n",
        "y = marketing['y']\n",
        "\n",
        "X_train, X_test, y_train, y_test = train_test_split(X,y, test_size=0.30, random_state=42)\n",
        "\n",
        "# padronização\n",
        "std = StandardScaler()\n",
        "X_train = std.fit_transform(X_train)\n",
        "X_test = std.transform(X_test)"
      ],
      "execution_count": 4,
      "outputs": []
    },
    {
      "cell_type": "code",
      "metadata": {
        "id": "PNP86OxEE6ue",
        "colab_type": "code",
        "colab": {
          "base_uri": "https://localhost:8080/",
          "height": 34
        },
        "outputId": "72b303da-2021-4812-aec8-d2522d32743b"
      },
      "source": [
        "X_train.shape"
      ],
      "execution_count": 5,
      "outputs": [
        {
          "output_type": "execute_result",
          "data": {
            "text/plain": [
              "(28483, 42)"
            ]
          },
          "metadata": {
            "tags": []
          },
          "execution_count": 5
        }
      ]
    },
    {
      "cell_type": "code",
      "metadata": {
        "id": "octQPO-SEsS5",
        "colab_type": "code",
        "colab": {
          "base_uri": "https://localhost:8080/",
          "height": 1000
        },
        "outputId": "03eeab64-6b38-45a2-cbbe-2a759afddb56"
      },
      "source": [
        "# Rede neural \n",
        "\n",
        "model = Sequential()\n",
        "#model.add(Dense(units=20, input_shape=(28483, 42), activation='sigmoid'))\n",
        "model.add(InputLayer(input_shape=(X_train.shape[1])))\n",
        "model.add(Dense(units=20, activation='sigmoid'))\n",
        "model.add(Dense(units=20, activation='sigmoid'))\n",
        "model.add(Dense(units=1, activation='sigmoid'))\n",
        "model.compile(optimizer=Adam(learning_rate=0.001),\n",
        "              loss=BinaryCrossentropy(),\n",
        "              metrics=['Precision', 'accuracy'])\n",
        "\n",
        "\n",
        "# treino \n",
        "history = model.fit(X_train, y_train, epochs=50, batch_size=64, verbose=1)"
      ],
      "execution_count": 6,
      "outputs": [
        {
          "output_type": "stream",
          "text": [
            "Epoch 1/50\n",
            "WARNING:tensorflow:From /usr/local/lib/python3.6/dist-packages/tensorflow/python/ops/resource_variable_ops.py:1817: calling BaseResourceVariable.__init__ (from tensorflow.python.ops.resource_variable_ops) with constraint is deprecated and will be removed in a future version.\n",
            "Instructions for updating:\n",
            "If using Keras pass *_constraint arguments to layers.\n",
            "446/446 [==============================] - 2s 4ms/step - loss: 0.3156 - precision: 0.7273 - accuracy: 0.8845\n",
            "Epoch 2/50\n",
            "446/446 [==============================] - 2s 4ms/step - loss: 0.2307 - precision: 0.6385 - accuracy: 0.9006\n",
            "Epoch 3/50\n",
            "446/446 [==============================] - 2s 4ms/step - loss: 0.2210 - precision: 0.6166 - accuracy: 0.9039\n",
            "Epoch 4/50\n",
            "446/446 [==============================] - 2s 4ms/step - loss: 0.2196 - precision: 0.6249 - accuracy: 0.9057\n",
            "Epoch 5/50\n",
            "446/446 [==============================] - 2s 4ms/step - loss: 0.2184 - precision: 0.6225 - accuracy: 0.9052\n",
            "Epoch 6/50\n",
            "446/446 [==============================] - 2s 4ms/step - loss: 0.2178 - precision: 0.6247 - accuracy: 0.9058\n",
            "Epoch 7/50\n",
            "446/446 [==============================] - 2s 4ms/step - loss: 0.2169 - precision: 0.6249 - accuracy: 0.9059\n",
            "Epoch 8/50\n",
            "446/446 [==============================] - 2s 4ms/step - loss: 0.2161 - precision: 0.6269 - accuracy: 0.9057\n",
            "Epoch 9/50\n",
            "446/446 [==============================] - 2s 4ms/step - loss: 0.2152 - precision: 0.6356 - accuracy: 0.9070\n",
            "Epoch 10/50\n",
            "446/446 [==============================] - 2s 4ms/step - loss: 0.2144 - precision: 0.6280 - accuracy: 0.9063\n",
            "Epoch 11/50\n",
            "446/446 [==============================] - 2s 4ms/step - loss: 0.2135 - precision: 0.6346 - accuracy: 0.9069\n",
            "Epoch 12/50\n",
            "446/446 [==============================] - 2s 4ms/step - loss: 0.2125 - precision: 0.6347 - accuracy: 0.9071\n",
            "Epoch 13/50\n",
            "446/446 [==============================] - 2s 4ms/step - loss: 0.2116 - precision: 0.6341 - accuracy: 0.9066\n",
            "Epoch 14/50\n",
            "446/446 [==============================] - 2s 4ms/step - loss: 0.2107 - precision: 0.6457 - accuracy: 0.9082\n",
            "Epoch 15/50\n",
            "446/446 [==============================] - 2s 4ms/step - loss: 0.2096 - precision: 0.6405 - accuracy: 0.9076\n",
            "Epoch 16/50\n",
            "446/446 [==============================] - 2s 4ms/step - loss: 0.2088 - precision: 0.6390 - accuracy: 0.9075\n",
            "Epoch 17/50\n",
            "446/446 [==============================] - 2s 4ms/step - loss: 0.2076 - precision: 0.6419 - accuracy: 0.9080\n",
            "Epoch 18/50\n",
            "446/446 [==============================] - 2s 4ms/step - loss: 0.2069 - precision: 0.6516 - accuracy: 0.9092\n",
            "Epoch 19/50\n",
            "446/446 [==============================] - 2s 4ms/step - loss: 0.2060 - precision: 0.6518 - accuracy: 0.9094\n",
            "Epoch 20/50\n",
            "446/446 [==============================] - 2s 4ms/step - loss: 0.2052 - precision: 0.6461 - accuracy: 0.9088\n",
            "Epoch 21/50\n",
            "446/446 [==============================] - 2s 4ms/step - loss: 0.2044 - precision: 0.6512 - accuracy: 0.9097\n",
            "Epoch 22/50\n",
            "446/446 [==============================] - 2s 4ms/step - loss: 0.2035 - precision: 0.6579 - accuracy: 0.9104\n",
            "Epoch 23/50\n",
            "446/446 [==============================] - 2s 4ms/step - loss: 0.2027 - precision: 0.6555 - accuracy: 0.9105\n",
            "Epoch 24/50\n",
            "446/446 [==============================] - 2s 4ms/step - loss: 0.2023 - precision: 0.6578 - accuracy: 0.9106\n",
            "Epoch 25/50\n",
            "446/446 [==============================] - 2s 4ms/step - loss: 0.2014 - precision: 0.6528 - accuracy: 0.9100\n",
            "Epoch 26/50\n",
            "446/446 [==============================] - 2s 4ms/step - loss: 0.2008 - precision: 0.6599 - accuracy: 0.9112\n",
            "Epoch 27/50\n",
            "446/446 [==============================] - 2s 4ms/step - loss: 0.2001 - precision: 0.6585 - accuracy: 0.9111\n",
            "Epoch 28/50\n",
            "446/446 [==============================] - 2s 4ms/step - loss: 0.1994 - precision: 0.6683 - accuracy: 0.9126\n",
            "Epoch 29/50\n",
            "446/446 [==============================] - 2s 4ms/step - loss: 0.1988 - precision: 0.6624 - accuracy: 0.9121\n",
            "Epoch 30/50\n",
            "446/446 [==============================] - 2s 4ms/step - loss: 0.1982 - precision: 0.6644 - accuracy: 0.9120\n",
            "Epoch 31/50\n",
            "446/446 [==============================] - 2s 4ms/step - loss: 0.1975 - precision: 0.6681 - accuracy: 0.9126\n",
            "Epoch 32/50\n",
            "446/446 [==============================] - 2s 4ms/step - loss: 0.1972 - precision: 0.6653 - accuracy: 0.9120\n",
            "Epoch 33/50\n",
            "446/446 [==============================] - 2s 4ms/step - loss: 0.1966 - precision: 0.6652 - accuracy: 0.9127\n",
            "Epoch 34/50\n",
            "446/446 [==============================] - 2s 4ms/step - loss: 0.1963 - precision: 0.6650 - accuracy: 0.9122\n",
            "Epoch 35/50\n",
            "446/446 [==============================] - 2s 4ms/step - loss: 0.1955 - precision: 0.6654 - accuracy: 0.9129\n",
            "Epoch 36/50\n",
            "446/446 [==============================] - 2s 4ms/step - loss: 0.1951 - precision: 0.6644 - accuracy: 0.9127\n",
            "Epoch 37/50\n",
            "446/446 [==============================] - 2s 4ms/step - loss: 0.1948 - precision: 0.6697 - accuracy: 0.9132\n",
            "Epoch 38/50\n",
            "446/446 [==============================] - 2s 4ms/step - loss: 0.1942 - precision: 0.6663 - accuracy: 0.9134\n",
            "Epoch 39/50\n",
            "446/446 [==============================] - 2s 4ms/step - loss: 0.1942 - precision: 0.6727 - accuracy: 0.9136\n",
            "Epoch 40/50\n",
            "446/446 [==============================] - 2s 4ms/step - loss: 0.1936 - precision: 0.6663 - accuracy: 0.9131\n",
            "Epoch 41/50\n",
            "446/446 [==============================] - 2s 4ms/step - loss: 0.1932 - precision: 0.6715 - accuracy: 0.9135\n",
            "Epoch 42/50\n",
            "446/446 [==============================] - 2s 4ms/step - loss: 0.1926 - precision: 0.6690 - accuracy: 0.9147\n",
            "Epoch 43/50\n",
            "446/446 [==============================] - 2s 4ms/step - loss: 0.1925 - precision: 0.6755 - accuracy: 0.9144\n",
            "Epoch 44/50\n",
            "446/446 [==============================] - 2s 4ms/step - loss: 0.1922 - precision: 0.6672 - accuracy: 0.9134\n",
            "Epoch 45/50\n",
            "446/446 [==============================] - 2s 4ms/step - loss: 0.1918 - precision: 0.6698 - accuracy: 0.9139\n",
            "Epoch 46/50\n",
            "446/446 [==============================] - 2s 4ms/step - loss: 0.1915 - precision: 0.6698 - accuracy: 0.9143\n",
            "Epoch 47/50\n",
            "446/446 [==============================] - 2s 4ms/step - loss: 0.1908 - precision: 0.6764 - accuracy: 0.9154\n",
            "Epoch 48/50\n",
            "446/446 [==============================] - 2s 4ms/step - loss: 0.1907 - precision: 0.6713 - accuracy: 0.9143\n",
            "Epoch 49/50\n",
            "446/446 [==============================] - 2s 4ms/step - loss: 0.1903 - precision: 0.6718 - accuracy: 0.9147\n",
            "Epoch 50/50\n",
            "446/446 [==============================] - 2s 4ms/step - loss: 0.1898 - precision: 0.6768 - accuracy: 0.9152\n"
          ],
          "name": "stdout"
        }
      ]
    },
    {
      "cell_type": "code",
      "metadata": {
        "id": "WzG7KZf1IaV5",
        "colab_type": "code",
        "colab": {
          "base_uri": "https://localhost:8080/",
          "height": 34
        },
        "outputId": "68b87bb2-ab80-42fc-8097-a1f46a7544da"
      },
      "source": [
        "# avaliando rede neural\n",
        "binary_entropy, precision, accuracy = model.evaluate(X_test,  y_test, verbose=2)"
      ],
      "execution_count": 7,
      "outputs": [
        {
          "output_type": "stream",
          "text": [
            "382/382 - 1s - loss: 0.2136 - precision: 0.6330 - accuracy: 0.9046\n"
          ],
          "name": "stdout"
        }
      ]
    },
    {
      "cell_type": "code",
      "metadata": {
        "id": "eMePLHYkUc8Q",
        "colab_type": "code",
        "colab": {
          "base_uri": "https://localhost:8080/",
          "height": 34
        },
        "outputId": "1ed1cfe7-dea7-44a8-fa49-bdd34857e345"
      },
      "source": [
        "print('Precision: ', precision)"
      ],
      "execution_count": 8,
      "outputs": [
        {
          "output_type": "stream",
          "text": [
            "Precision:  0.6330350041389465\n"
          ],
          "name": "stdout"
        }
      ]
    },
    {
      "cell_type": "code",
      "metadata": {
        "id": "Za-5xOnNVJZC",
        "colab_type": "code",
        "colab": {
          "base_uri": "https://localhost:8080/",
          "height": 136
        },
        "outputId": "56fec6df-9e5c-4d62-d191-96815e766e21"
      },
      "source": [
        "# predições \n",
        "predictions = model.predict(X_test)\n",
        "print(predictions)"
      ],
      "execution_count": 9,
      "outputs": [
        {
          "output_type": "stream",
          "text": [
            "[[0.00927562]\n",
            " [0.00600761]\n",
            " [0.00096901]\n",
            " ...\n",
            " [0.03006127]\n",
            " [0.01449863]\n",
            " [0.00319582]]\n"
          ],
          "name": "stdout"
        }
      ]
    },
    {
      "cell_type": "code",
      "metadata": {
        "id": "5SFlEnErYnuB",
        "colab_type": "code",
        "colab": {
          "base_uri": "https://localhost:8080/",
          "height": 272
        },
        "outputId": "7cd4ec83-9cba-424a-a7b1-7c0286194df8"
      },
      "source": [
        "# summary \n",
        "print(model.summary())"
      ],
      "execution_count": 10,
      "outputs": [
        {
          "output_type": "stream",
          "text": [
            "Model: \"sequential\"\n",
            "_________________________________________________________________\n",
            "Layer (type)                 Output Shape              Param #   \n",
            "=================================================================\n",
            "dense (Dense)                (None, 20)                860       \n",
            "_________________________________________________________________\n",
            "dense_1 (Dense)              (None, 20)                420       \n",
            "_________________________________________________________________\n",
            "dense_2 (Dense)              (None, 1)                 21        \n",
            "=================================================================\n",
            "Total params: 1,301\n",
            "Trainable params: 1,301\n",
            "Non-trainable params: 0\n",
            "_________________________________________________________________\n",
            "None\n"
          ],
          "name": "stdout"
        }
      ]
    },
    {
      "cell_type": "code",
      "metadata": {
        "id": "GfDeLlL3P6vp",
        "colab_type": "code",
        "colab": {
          "base_uri": "https://localhost:8080/",
          "height": 297
        },
        "outputId": "6cac1c19-43cc-4283-b663-768ed32f756f"
      },
      "source": [
        "# Curva do erro \n",
        "plt.plot(history.history['loss'])\n",
        "plt.xlabel('Epochs')\n",
        "plt.ylabel('Loss Magnitude')"
      ],
      "execution_count": 11,
      "outputs": [
        {
          "output_type": "execute_result",
          "data": {
            "text/plain": [
              "Text(0, 0.5, 'Loss Magnitude')"
            ]
          },
          "metadata": {
            "tags": []
          },
          "execution_count": 11
        },
        {
          "output_type": "display_data",
          "data": {
            "image/png": "[encoded data removed]",
            "text/plain": [
              "<Figure size 432x288 with 1 Axes>"
            ]
          },
          "metadata": {
            "tags": [],
            "needs_background": "light"
          }
        }
      ]
    },
    {
      "cell_type": "code",
      "metadata": {
        "id": "H-iD7u3vTcLx",
        "colab_type": "code",
        "colab": {}
      },
      "source": [
        ""
      ],
      "execution_count": 11,
      "outputs": []
    }
  ]
}