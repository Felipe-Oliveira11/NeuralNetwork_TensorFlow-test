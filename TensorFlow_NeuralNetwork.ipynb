{
  "nbformat": 4,
  "nbformat_minor": 0,
  "metadata": {
    "colab": {
      "name": "TensorFlow_NeuralNetwork.ipynb",
      "provenance": [],
      "collapsed_sections": [],
      "mount_file_id": "1AQ3Y0EDB0_YEYwb_hMcL4RJ41PMIJAUD",
      "authorship_tag": "ABX9TyO3CoxRrGSZU9Cpx2lK0YDq",
      "include_colab_link": true
    },
    "kernelspec": {
      "name": "python3",
      "display_name": "Python 3"
    },
    "accelerator": "GPU"
  },
  "cells": [
    {
      "cell_type": "markdown",
      "metadata": {
        "id": "view-in-github",
        "colab_type": "text"
      },
      "source": [
        "<a href=\"https://colab.research.google.com/github/Felipe-Oliveira11/Teste/blob/master/TensorFlow_NeuralNetwork.ipynb\" target=\"_parent\"><img src=\"https://colab.research.google.com/assets/colab-badge.svg\" alt=\"Open In Colab\"/></a>"
      ]
    },
    {
      "cell_type": "code",
      "metadata": {
        "id": "59Xm6s3hDUBK",
        "colab_type": "code",
        "colab": {
          "base_uri": "https://localhost:8080/",
          "height": 71
        },
        "outputId": "89e84123-e17a-4525-8094-637ac2e5bf95"
      },
      "source": [
        "import numpy as np \n",
        "import pandas as pd \n",
        "import matplotlib.pyplot as plt \n",
        "import seaborn as sns \n",
        "\n",
        "%matplotlib inline \n",
        "import warnings\n",
        "warnings.filterwarnings('ignore')\n",
        "\n",
        "import pickle \n",
        "from hyperopt import hp, tpe, fmin, Trials\n",
        "from sklearn.preprocessing import StandardScaler, RobustScaler\n",
        "from sklearn.preprocessing import MinMaxScaler\n",
        "from sklearn.preprocessing import LabelEncoder\n",
        "from sklearn.model_selection import StratifiedKFold, train_test_split\n",
        "from sklearn.metrics import classification_report, precision_score, average_precision_score, roc_auc_score\n",
        "\n",
        "\n",
        "import tensorflow as tf\n",
        "from tensorflow.keras import Sequential\n",
        "from tensorflow.keras.layers import Dense\n",
        "from tensorflow.keras.optimizers import Adam, SGD, RMSprop\n",
        "from tensorflow.keras.losses import BinaryCrossentropy"
      ],
      "execution_count": 1,
      "outputs": [
        {
          "output_type": "stream",
          "text": [
            "/usr/local/lib/python3.6/dist-packages/statsmodels/tools/_testing.py:19: FutureWarning: pandas.util.testing is deprecated. Use the functions in the public API at pandas.testing instead.\n",
            "  import pandas.util.testing as tm\n"
          ],
          "name": "stderr"
        }
      ]
    },
    {
      "cell_type": "code",
      "metadata": {
        "id": "WMVrJbG2Dg23",
        "colab_type": "code",
        "colab": {
          "base_uri": "https://localhost:8080/",
          "height": 241
        },
        "outputId": "83ba44bb-9523-40af-fde6-85fa14718783"
      },
      "source": [
        "path = '/content/drive/My Drive/Inteligência Artificial - Notebooks /Marketing /campaigns.csv'\n",
        "marketing = pd.read_csv(path)\n",
        "marketing.head()"
      ],
      "execution_count": 2,
      "outputs": [
        {
          "output_type": "execute_result",
          "data": {
            "text/html": [
              "<div>\n",
              "<style scoped>\n",
              "    .dataframe tbody tr th:only-of-type {\n",
              "        vertical-align: middle;\n",
              "    }\n",
              "\n",
              "    .dataframe tbody tr th {\n",
              "        vertical-align: top;\n",
              "    }\n",
              "\n",
              "    .dataframe thead th {\n",
              "        text-align: right;\n",
              "    }\n",
              "</style>\n",
              "<table border=\"1\" class=\"dataframe\">\n",
              "  <thead>\n",
              "    <tr style=\"text-align: right;\">\n",
              "      <th></th>\n",
              "      <th>Unnamed: 0</th>\n",
              "      <th>age</th>\n",
              "      <th>job</th>\n",
              "      <th>marital</th>\n",
              "      <th>education</th>\n",
              "      <th>default</th>\n",
              "      <th>balance</th>\n",
              "      <th>housing</th>\n",
              "      <th>loan</th>\n",
              "      <th>contact</th>\n",
              "      <th>day</th>\n",
              "      <th>month</th>\n",
              "      <th>duration</th>\n",
              "      <th>campaign</th>\n",
              "      <th>pdays</th>\n",
              "      <th>previous</th>\n",
              "      <th>poutcome</th>\n",
              "      <th>y</th>\n",
              "    </tr>\n",
              "  </thead>\n",
              "  <tbody>\n",
              "    <tr>\n",
              "      <th>0</th>\n",
              "      <td>0</td>\n",
              "      <td>58</td>\n",
              "      <td>management</td>\n",
              "      <td>married</td>\n",
              "      <td>tertiary</td>\n",
              "      <td>no</td>\n",
              "      <td>2143</td>\n",
              "      <td>yes</td>\n",
              "      <td>no</td>\n",
              "      <td>unknown</td>\n",
              "      <td>5</td>\n",
              "      <td>may</td>\n",
              "      <td>261</td>\n",
              "      <td>1</td>\n",
              "      <td>-1</td>\n",
              "      <td>0</td>\n",
              "      <td>unknown</td>\n",
              "      <td>no</td>\n",
              "    </tr>\n",
              "    <tr>\n",
              "      <th>1</th>\n",
              "      <td>1</td>\n",
              "      <td>44</td>\n",
              "      <td>technician</td>\n",
              "      <td>single</td>\n",
              "      <td>secondary</td>\n",
              "      <td>no</td>\n",
              "      <td>29</td>\n",
              "      <td>yes</td>\n",
              "      <td>no</td>\n",
              "      <td>unknown</td>\n",
              "      <td>5</td>\n",
              "      <td>may</td>\n",
              "      <td>151</td>\n",
              "      <td>1</td>\n",
              "      <td>-1</td>\n",
              "      <td>0</td>\n",
              "      <td>unknown</td>\n",
              "      <td>no</td>\n",
              "    </tr>\n",
              "    <tr>\n",
              "      <th>2</th>\n",
              "      <td>2</td>\n",
              "      <td>33</td>\n",
              "      <td>entrepreneur</td>\n",
              "      <td>married</td>\n",
              "      <td>secondary</td>\n",
              "      <td>no</td>\n",
              "      <td>2</td>\n",
              "      <td>yes</td>\n",
              "      <td>yes</td>\n",
              "      <td>unknown</td>\n",
              "      <td>5</td>\n",
              "      <td>may</td>\n",
              "      <td>76</td>\n",
              "      <td>1</td>\n",
              "      <td>-1</td>\n",
              "      <td>0</td>\n",
              "      <td>unknown</td>\n",
              "      <td>no</td>\n",
              "    </tr>\n",
              "    <tr>\n",
              "      <th>3</th>\n",
              "      <td>3</td>\n",
              "      <td>47</td>\n",
              "      <td>blue-collar</td>\n",
              "      <td>married</td>\n",
              "      <td>unknown</td>\n",
              "      <td>no</td>\n",
              "      <td>1506</td>\n",
              "      <td>yes</td>\n",
              "      <td>no</td>\n",
              "      <td>unknown</td>\n",
              "      <td>5</td>\n",
              "      <td>may</td>\n",
              "      <td>92</td>\n",
              "      <td>1</td>\n",
              "      <td>-1</td>\n",
              "      <td>0</td>\n",
              "      <td>unknown</td>\n",
              "      <td>no</td>\n",
              "    </tr>\n",
              "    <tr>\n",
              "      <th>4</th>\n",
              "      <td>4</td>\n",
              "      <td>33</td>\n",
              "      <td>unknown</td>\n",
              "      <td>single</td>\n",
              "      <td>unknown</td>\n",
              "      <td>no</td>\n",
              "      <td>1</td>\n",
              "      <td>no</td>\n",
              "      <td>no</td>\n",
              "      <td>unknown</td>\n",
              "      <td>5</td>\n",
              "      <td>may</td>\n",
              "      <td>198</td>\n",
              "      <td>1</td>\n",
              "      <td>-1</td>\n",
              "      <td>0</td>\n",
              "      <td>unknown</td>\n",
              "      <td>no</td>\n",
              "    </tr>\n",
              "  </tbody>\n",
              "</table>\n",
              "</div>"
            ],
            "text/plain": [
              "   Unnamed: 0  age           job  marital  ... pdays previous  poutcome   y\n",
              "0           0   58    management  married  ...    -1        0   unknown  no\n",
              "1           1   44    technician   single  ...    -1        0   unknown  no\n",
              "2           2   33  entrepreneur  married  ...    -1        0   unknown  no\n",
              "3           3   47   blue-collar  married  ...    -1        0   unknown  no\n",
              "4           4   33       unknown   single  ...    -1        0   unknown  no\n",
              "\n",
              "[5 rows x 18 columns]"
            ]
          },
          "metadata": {
            "tags": []
          },
          "execution_count": 2
        }
      ]
    },
    {
      "cell_type": "code",
      "metadata": {
        "id": "zAhCvkYxDwCX",
        "colab_type": "code",
        "colab": {}
      },
      "source": [
        "marketing.drop('Unnamed: 0', axis=1, inplace=True)\n",
        "\n",
        "\n",
        "# label target \n",
        "label = LabelEncoder()\n",
        "marketing['y'] = label.fit_transform(marketing[['y']])\n",
        "\n",
        "\n",
        "# tipo de variáveis \n",
        "cat_cols = marketing.select_dtypes(include=['object']).columns \n",
        "num_cols = marketing.select_dtypes(include=['float64', 'int64']).columns\n",
        "\n",
        "\n",
        "\n",
        "# encoding categóricas \n",
        "dummies = pd.get_dummies(marketing[cat_cols], prefix=cat_cols, drop_first=True)\n",
        "marketing = pd.concat([marketing, dummies], axis=1)\n",
        "marketing.drop(cat_cols, axis=1, inplace=True)\n",
        "marketing.shape\n",
        "\n",
        "\n",
        "# split \n",
        "X = marketing.drop('y', axis=1)\n",
        "y = marketing['y']\n",
        "\n",
        "X_train, X_test, y_train, y_test = train_test_split(X,y, test_size=0.30, random_state=42)\n",
        "\n",
        "# padronização\n",
        "std = StandardScaler()\n",
        "X_train = std.fit_transform(X_train)\n",
        "X_test = std.transform(X_test)"
      ],
      "execution_count": 3,
      "outputs": []
    },
    {
      "cell_type": "code",
      "metadata": {
        "id": "PNP86OxEE6ue",
        "colab_type": "code",
        "colab": {
          "base_uri": "https://localhost:8080/",
          "height": 34
        },
        "outputId": "a132dc4e-a5f7-4552-bf23-3302947e5fd0"
      },
      "source": [
        "X_train.shape"
      ],
      "execution_count": 4,
      "outputs": [
        {
          "output_type": "execute_result",
          "data": {
            "text/plain": [
              "(28483, 42)"
            ]
          },
          "metadata": {
            "tags": []
          },
          "execution_count": 4
        }
      ]
    },
    {
      "cell_type": "code",
      "metadata": {
        "id": "octQPO-SEsS5",
        "colab_type": "code",
        "colab": {
          "base_uri": "https://localhost:8080/",
          "height": 1000
        },
        "outputId": "b83f20d9-197b-4e6c-d61f-01a8e0670b83"
      },
      "source": [
        "# Rede neural | 3 camadas ocultas \n",
        "\n",
        "model = Sequential()\n",
        "model.add(Dense(units=20, input_shape=(28483, 42), activation='sigmoid'))\n",
        "model.add(Dense(units=20, activation='sigmoid'))\n",
        "model.add(Dense(units=20, activation='sigmoid'))\n",
        "model.add(Dense(units=1, activation='sigmoid'))\n",
        "model.compile(optimizer=Adam(learning_rate=0.001),\n",
        "              loss=BinaryCrossentropy(),\n",
        "              metrics=['accuracy'])\n",
        "\n",
        "\n",
        "# treino \n",
        "history = model.fit(X_train, y_train, epochs=50, batch_size=64, verbose=1)"
      ],
      "execution_count": 15,
      "outputs": [
        {
          "output_type": "stream",
          "text": [
            "Epoch 1/50\n",
            "WARNING:tensorflow:Model was constructed with shape (None, 28483, 42) for input Tensor(\"dense_8_input:0\", shape=(None, 28483, 42), dtype=float32), but it was called on an input with incompatible shape (None, 42).\n",
            "WARNING:tensorflow:Model was constructed with shape (None, 28483, 42) for input Tensor(\"dense_8_input:0\", shape=(None, 28483, 42), dtype=float32), but it was called on an input with incompatible shape (None, 42).\n",
            "446/446 [==============================] - 1s 3ms/step - loss: 0.4141 - accuracy: 0.8251\n",
            "Epoch 2/50\n",
            "446/446 [==============================] - 1s 3ms/step - loss: 0.2903 - accuracy: 0.8843\n",
            "Epoch 3/50\n",
            "446/446 [==============================] - 1s 3ms/step - loss: 0.2342 - accuracy: 0.9003\n",
            "Epoch 4/50\n",
            "446/446 [==============================] - 1s 3ms/step - loss: 0.2248 - accuracy: 0.9043\n",
            "Epoch 5/50\n",
            "446/446 [==============================] - 1s 3ms/step - loss: 0.2225 - accuracy: 0.9041\n",
            "Epoch 6/50\n",
            "446/446 [==============================] - 1s 3ms/step - loss: 0.2207 - accuracy: 0.9051\n",
            "Epoch 7/50\n",
            "446/446 [==============================] - 1s 3ms/step - loss: 0.2196 - accuracy: 0.9060\n",
            "Epoch 8/50\n",
            "446/446 [==============================] - 1s 3ms/step - loss: 0.2181 - accuracy: 0.9063\n",
            "Epoch 9/50\n",
            "446/446 [==============================] - 1s 3ms/step - loss: 0.2173 - accuracy: 0.9057\n",
            "Epoch 10/50\n",
            "446/446 [==============================] - 1s 3ms/step - loss: 0.2161 - accuracy: 0.9061\n",
            "Epoch 11/50\n",
            "446/446 [==============================] - 1s 3ms/step - loss: 0.2150 - accuracy: 0.9069\n",
            "Epoch 12/50\n",
            "446/446 [==============================] - 2s 3ms/step - loss: 0.2139 - accuracy: 0.9069\n",
            "Epoch 13/50\n",
            "446/446 [==============================] - 1s 3ms/step - loss: 0.2129 - accuracy: 0.9073\n",
            "Epoch 14/50\n",
            "446/446 [==============================] - 1s 3ms/step - loss: 0.2119 - accuracy: 0.9080\n",
            "Epoch 15/50\n",
            "446/446 [==============================] - 1s 3ms/step - loss: 0.2108 - accuracy: 0.9072\n",
            "Epoch 16/50\n",
            "446/446 [==============================] - 1s 3ms/step - loss: 0.2097 - accuracy: 0.9080\n",
            "Epoch 17/50\n",
            "446/446 [==============================] - 1s 3ms/step - loss: 0.2088 - accuracy: 0.9073\n",
            "Epoch 18/50\n",
            "446/446 [==============================] - 1s 3ms/step - loss: 0.2073 - accuracy: 0.9087\n",
            "Epoch 19/50\n",
            "446/446 [==============================] - 1s 3ms/step - loss: 0.2063 - accuracy: 0.9088\n",
            "Epoch 20/50\n",
            "446/446 [==============================] - 1s 3ms/step - loss: 0.2052 - accuracy: 0.9093\n",
            "Epoch 21/50\n",
            "446/446 [==============================] - 1s 3ms/step - loss: 0.2044 - accuracy: 0.9084\n",
            "Epoch 22/50\n",
            "446/446 [==============================] - 1s 3ms/step - loss: 0.2034 - accuracy: 0.9098\n",
            "Epoch 23/50\n",
            "446/446 [==============================] - 1s 3ms/step - loss: 0.2023 - accuracy: 0.9097\n",
            "Epoch 24/50\n",
            "446/446 [==============================] - 1s 3ms/step - loss: 0.2016 - accuracy: 0.9103\n",
            "Epoch 25/50\n",
            "446/446 [==============================] - 1s 3ms/step - loss: 0.2009 - accuracy: 0.9109\n",
            "Epoch 26/50\n",
            "446/446 [==============================] - 1s 3ms/step - loss: 0.2001 - accuracy: 0.9109\n",
            "Epoch 27/50\n",
            "446/446 [==============================] - 1s 3ms/step - loss: 0.1996 - accuracy: 0.9104\n",
            "Epoch 28/50\n",
            "446/446 [==============================] - 1s 3ms/step - loss: 0.1991 - accuracy: 0.9112\n",
            "Epoch 29/50\n",
            "446/446 [==============================] - 1s 3ms/step - loss: 0.1983 - accuracy: 0.9108\n",
            "Epoch 30/50\n",
            "446/446 [==============================] - 1s 3ms/step - loss: 0.1978 - accuracy: 0.9104\n",
            "Epoch 31/50\n",
            "446/446 [==============================] - 1s 3ms/step - loss: 0.1971 - accuracy: 0.9117\n",
            "Epoch 32/50\n",
            "446/446 [==============================] - 1s 3ms/step - loss: 0.1966 - accuracy: 0.9110\n",
            "Epoch 33/50\n",
            "446/446 [==============================] - 1s 3ms/step - loss: 0.1963 - accuracy: 0.9117\n",
            "Epoch 34/50\n",
            "446/446 [==============================] - 1s 3ms/step - loss: 0.1956 - accuracy: 0.9107\n",
            "Epoch 35/50\n",
            "446/446 [==============================] - 1s 3ms/step - loss: 0.1949 - accuracy: 0.9114\n",
            "Epoch 36/50\n",
            "446/446 [==============================] - 1s 3ms/step - loss: 0.1946 - accuracy: 0.9115\n",
            "Epoch 37/50\n",
            "446/446 [==============================] - 1s 3ms/step - loss: 0.1937 - accuracy: 0.9126\n",
            "Epoch 38/50\n",
            "446/446 [==============================] - 1s 3ms/step - loss: 0.1938 - accuracy: 0.9125\n",
            "Epoch 39/50\n",
            "446/446 [==============================] - 1s 3ms/step - loss: 0.1931 - accuracy: 0.9127\n",
            "Epoch 40/50\n",
            "446/446 [==============================] - 1s 3ms/step - loss: 0.1922 - accuracy: 0.9128\n",
            "Epoch 41/50\n",
            "446/446 [==============================] - 1s 3ms/step - loss: 0.1921 - accuracy: 0.9129\n",
            "Epoch 42/50\n",
            "446/446 [==============================] - 1s 3ms/step - loss: 0.1918 - accuracy: 0.9128\n",
            "Epoch 43/50\n",
            "446/446 [==============================] - 1s 3ms/step - loss: 0.1912 - accuracy: 0.9145\n",
            "Epoch 44/50\n",
            "446/446 [==============================] - 1s 3ms/step - loss: 0.1909 - accuracy: 0.9133\n",
            "Epoch 45/50\n",
            "446/446 [==============================] - 1s 3ms/step - loss: 0.1905 - accuracy: 0.9139\n",
            "Epoch 46/50\n",
            "446/446 [==============================] - 1s 3ms/step - loss: 0.1900 - accuracy: 0.9136\n",
            "Epoch 47/50\n",
            "446/446 [==============================] - 1s 3ms/step - loss: 0.1898 - accuracy: 0.9137\n",
            "Epoch 48/50\n",
            "446/446 [==============================] - 1s 3ms/step - loss: 0.1892 - accuracy: 0.9145\n",
            "Epoch 49/50\n",
            "446/446 [==============================] - 1s 3ms/step - loss: 0.1887 - accuracy: 0.9139\n",
            "Epoch 50/50\n",
            "446/446 [==============================] - 1s 3ms/step - loss: 0.1885 - accuracy: 0.9149\n"
          ],
          "name": "stdout"
        }
      ]
    },
    {
      "cell_type": "code",
      "metadata": {
        "id": "WzG7KZf1IaV5",
        "colab_type": "code",
        "colab": {
          "base_uri": "https://localhost:8080/",
          "height": 88
        },
        "outputId": "620685b6-13ef-482c-a33b-2b0d0cbb5536"
      },
      "source": [
        "# avaliando rede neural\n",
        "model.evaluate(X_test,  y_test, verbose=2)"
      ],
      "execution_count": 16,
      "outputs": [
        {
          "output_type": "stream",
          "text": [
            "WARNING:tensorflow:Model was constructed with shape (None, 28483, 42) for input Tensor(\"dense_8_input:0\", shape=(None, 28483, 42), dtype=float32), but it was called on an input with incompatible shape (None, 42).\n",
            "382/382 - 1s - loss: 0.2144 - accuracy: 0.9037\n"
          ],
          "name": "stdout"
        },
        {
          "output_type": "execute_result",
          "data": {
            "text/plain": [
              "[0.21443039178848267, 0.9037437438964844]"
            ]
          },
          "metadata": {
            "tags": []
          },
          "execution_count": 16
        }
      ]
    },
    {
      "cell_type": "code",
      "metadata": {
        "id": "GfDeLlL3P6vp",
        "colab_type": "code",
        "colab": {
          "base_uri": "https://localhost:8080/",
          "height": 296
        },
        "outputId": "62e4d207-97bd-4e1f-da06-60f784a9630b"
      },
      "source": [
        "# Curva do erro \n",
        "plt.plot(history.history['loss'])\n",
        "plt.xlabel('Epochs')\n",
        "plt.ylabel('Loss Magnitude')"
      ],
      "execution_count": 17,
      "outputs": [
        {
          "output_type": "execute_result",
          "data": {
            "text/plain": [
              "Text(0, 0.5, 'Loss Magnitude')"
            ]
          },
          "metadata": {
            "tags": []
          },
          "execution_count": 17
        },
        {
          "output_type": "display_data",
          "data": {
            "image/png": "[encoded data removed]",
            "text/plain": [
              "<Figure size 432x288 with 1 Axes>"
            ]
          },
          "metadata": {
            "tags": [],
            "needs_background": "light"
          }
        }
      ]
    }
  ]
}